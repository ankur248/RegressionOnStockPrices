{
 "cells": [
  {
   "cell_type": "code",
   "execution_count": 2,
   "metadata": {
    "collapsed": false
   },
   "outputs": [
    {
     "name": "stdout",
     "output_type": "stream",
     "text": [
      "              Open    High     Low    Close      Volume  Ex-Dividend  \\\n",
      "Date                                                                   \n",
      "2004-08-19  100.01  104.06   95.96  100.335  44659000.0          0.0   \n",
      "2004-08-20  101.01  109.08  100.50  108.310  22834300.0          0.0   \n",
      "2004-08-23  110.76  113.48  109.05  109.400  18256100.0          0.0   \n",
      "2004-08-24  111.24  111.60  103.57  104.870  15247300.0          0.0   \n",
      "2004-08-25  104.76  108.00  103.88  106.000   9188600.0          0.0   \n",
      "\n",
      "            Split Ratio  Adj. Open  Adj. High   Adj. Low  Adj. Close  \\\n",
      "Date                                                                   \n",
      "2004-08-19          1.0  50.159839  52.191109  48.128568   50.322842   \n",
      "2004-08-20          1.0  50.661387  54.708881  50.405597   54.322689   \n",
      "2004-08-23          1.0  55.551482  56.915693  54.693835   54.869377   \n",
      "2004-08-24          1.0  55.792225  55.972783  51.945350   52.597363   \n",
      "2004-08-25          1.0  52.542193  54.167209  52.100830   53.164113   \n",
      "\n",
      "            Adj. Volume  \n",
      "Date                     \n",
      "2004-08-19   44659000.0  \n",
      "2004-08-20   22834300.0  \n",
      "2004-08-23   18256100.0  \n",
      "2004-08-24   15247300.0  \n",
      "2004-08-25    9188600.0  \n"
     ]
    }
   ],
   "source": [
    "import quandl\n",
    "import math,datetime\n",
    "import pandas as pd\n",
    "import numpy as np\n",
    "from sklearn import preprocessing,cross_validation,svm\n",
    "import matplotlib.pyplot as plt #To plot stuff\n",
    "from matplotlib import style #To make it look decent\n",
    "import pickle\n",
    "style.use('ggplot')# Specify which decent looking thing you want\n",
    "#Scaling for features b/w -1 & 1\n",
    "#to creaate our training and testing samples,split your data\n",
    "from sklearn.linear_model import LinearRegression\n",
    "df=quandl.get('WIKI/GOOGL')\n",
    "print(df.head())\n",
    "#pickling: serialisation of any python object eg dictionary or in our case a classifier\n",
    "#pickle is kind of like a file : you open it , u read it and close it"
   ]
  },
  {
   "cell_type": "code",
   "execution_count": 3,
   "metadata": {
    "collapsed": false
   },
   "outputs": [
    {
     "name": "stdout",
     "output_type": "stream",
     "text": [
      "            Adj. Open  Adj. High   Adj. Low  Adj. Close  Adj. Volume\n",
      "Date                                                                \n",
      "2004-08-19  50.159839  52.191109  48.128568   50.322842   44659000.0\n",
      "2004-08-20  50.661387  54.708881  50.405597   54.322689   22834300.0\n",
      "2004-08-23  55.551482  56.915693  54.693835   54.869377   18256100.0\n",
      "2004-08-24  55.792225  55.972783  51.945350   52.597363   15247300.0\n",
      "2004-08-25  52.542193  54.167209  52.100830   53.164113    9188600.0\n"
     ]
    }
   ],
   "source": [
    "df=df[['Adj. Open','Adj. High','Adj. Low','Adj. Close','Adj. Volume',]]\n",
    "\n",
    "\n",
    "print(df.head())\n"
   ]
  },
  {
   "cell_type": "code",
   "execution_count": 4,
   "metadata": {
    "collapsed": false
   },
   "outputs": [
    {
     "name": "stdout",
     "output_type": "stream",
     "text": [
      "            Adj. Open  Adj. High   Adj. Low  Adj. Close  Adj. Volume  \\\n",
      "Date                                                                   \n",
      "2004-08-19  50.159839  52.191109  48.128568   50.322842   44659000.0   \n",
      "2004-08-20  50.661387  54.708881  50.405597   54.322689   22834300.0   \n",
      "2004-08-23  55.551482  56.915693  54.693835   54.869377   18256100.0   \n",
      "2004-08-24  55.792225  55.972783  51.945350   52.597363   15247300.0   \n",
      "2004-08-25  52.542193  54.167209  52.100830   53.164113    9188600.0   \n",
      "\n",
      "              HL_PCT  PCT_change  \n",
      "Date                              \n",
      "2004-08-19  0.084410    0.003250  \n",
      "2004-08-20  0.085373    0.072270  \n",
      "2004-08-23  0.040624   -0.012279  \n",
      "2004-08-24  0.077532   -0.057264  \n",
      "2004-08-25  0.039661    0.011837  \n"
     ]
    }
   ],
   "source": [
    "\n",
    "df['HL_PCT']=(df['Adj. High']-df['Adj. Low'])/df['Adj. Low']\n",
    "\n",
    "\n",
    "df['PCT_change']=(df['Adj. Close']-df['Adj. Open'])/df['Adj. Open']\n",
    "print(df.head())"
   ]
  },
  {
   "cell_type": "code",
   "execution_count": 5,
   "metadata": {
    "collapsed": false
   },
   "outputs": [
    {
     "name": "stdout",
     "output_type": "stream",
     "text": [
      "            Adj. Close    HL_PCT  PCT_change  Adj. Volume      label\n",
      "Date                                                                \n",
      "2004-08-19   50.322842  0.084410    0.003250   44659000.0  69.078238\n",
      "2004-08-20   54.322689  0.085373    0.072270   22834300.0  67.839414\n",
      "2004-08-23   54.869377  0.040624   -0.012279   18256100.0  68.912727\n",
      "2004-08-24   52.597363  0.077532   -0.057264   15247300.0  70.668146\n",
      "2004-08-25   53.164113  0.039661    0.011837    9188600.0  71.219849\n"
     ]
    }
   ],
   "source": [
    "df=df[['Adj. Close','HL_PCT','PCT_change','Adj. Volume',]]\n",
    "\n",
    "forecast_col='Adj. Close'\n",
    "\n",
    "df.fillna(-99999,inplace=True)\n",
    "\n",
    "forecast_out=int(math.ceil(0.01*len(df)))\n",
    "\n",
    "df['label']=df[forecast_col].shift(-forecast_out)#Shifted up so that labels are of the future i.e. predictions\n",
    "\n",
    "print(df.head())\n",
    "\n"
   ]
  },
  {
   "cell_type": "code",
   "execution_count": 6,
   "metadata": {
    "collapsed": false
   },
   "outputs": [
    {
     "name": "stdout",
     "output_type": "stream",
     "text": [
      "3389 3389\n"
     ]
    },
    {
     "name": "stderr",
     "output_type": "stream",
     "text": [
      "C:\\Users\\Dell\\Anaconda4\\lib\\site-packages\\sklearn\\preprocessing\\data.py:167: UserWarning: Numerical issues were encountered when centering the data and might not be solved. Dataset may contain too large values. You may need to prescale your features.\n",
      "  warnings.warn(\"Numerical issues were encountered \"\n"
     ]
    }
   ],
   "source": [
    "X=np.array(df.drop(['label'],1))#everything except label\n",
    "X=preprocessing.scale(X)#Sometimes scale with entire data set \n",
    "X_lately=X[-forecast_out:]\n",
    "X=X[:-forecast_out]\n",
    "#only needed for training set , values for which we have label obtained by shifting before\n",
    "df.dropna(inplace=True)#Return object with labels on given axis omitted where alternately any or all of the data are missing\n",
    "df.dropna(inplace=True)\n",
    "y=np.array(df['label'])\n",
    "print(len(X),len(y))"
   ]
  },
  {
   "cell_type": "code",
   "execution_count": 13,
   "metadata": {
    "collapsed": false
   },
   "outputs": [
    {
     "name": "stdout",
     "output_type": "stream",
     "text": [
      "0.976292608153\n"
     ]
    }
   ],
   "source": [
    "X_train, X_test, y_train , y_test=cross_validation.train_test_split(X,y,test_size=0.2)\n",
    "##clf=LinearRegression(n_jobs=-1)\n",
    "#n_jobs for multithreading , -1 for creating max threads , computations faster\n",
    "#clf=svm.SVR(kernel='poly')\n",
    "##clf.fit(X_train, y_train)\n",
    "#should save classiffier just after you train it\n",
    "##with open('LinearRegression.pickle','wb') as f: #Open file with intention to write, use temporary variable as f\n",
    "##    pickle.dump(clf,f)\n",
    "#Now,to reuse the classifier\n",
    "pickle_in=open('LinearRegression.pickle','rb')\n",
    "clf=pickle.load(pickle_in)\n",
    "#we have renamed/redefined classiffier\n",
    "#pickle is saved in directory we are working in , we just read pickle and load classifier\n",
    "accuracy=clf.score(X_test, y_test)\n",
    "print(accuracy)"
   ]
  },
  {
   "cell_type": "code",
   "execution_count": 12,
   "metadata": {
    "collapsed": false
   },
   "outputs": [
    {
     "name": "stdout",
     "output_type": "stream",
     "text": [
      "[ 1103.95512457  1070.4511058   1015.49995935  1059.64334512  1072.70274566\n",
      "  1073.6294561   1092.49991748  1110.43432101  1114.92948812  1123.14306811\n",
      "  1132.62802347  1128.46437847  1148.32916589  1164.64913128  1134.1148296\n",
      "  1121.09744645  1084.96607361  1103.64911585  1114.53944116  1120.78377267\n",
      "  1135.65152612  1150.26702241  1181.62261858  1185.76492688  1155.15374704\n",
      "  1168.86458842  1169.84121839  1151.62113016  1116.57290951  1114.12529953\n",
      "  1112.97745975  1067.92536659  1040.77884221  1070.08581005  1015.94880843] 0.97443737726 35\n"
     ]
    }
   ],
   "source": [
    "forecast_set=clf.predict(X_lately)#using scikitlearn to predict , can pass single or array of values\n",
    "print(forecast_set,accuracy,forecast_out)"
   ]
  },
  {
   "cell_type": "code",
   "execution_count": 9,
   "metadata": {
    "collapsed": false
   },
   "outputs": [
    {
     "name": "stdout",
     "output_type": "stream",
     "text": [
      "            Adj. Close  HL_PCT  PCT_change  Adj. Volume  label     Forecast\n",
      "2018-03-08         NaN     NaN         NaN          NaN    NaN  1116.155196\n",
      "2018-03-09         NaN     NaN         NaN          NaN    NaN  1072.181870\n",
      "2018-03-10         NaN     NaN         NaN          NaN    NaN  1044.729372\n",
      "2018-03-11         NaN     NaN         NaN          NaN    NaN  1072.661257\n",
      "2018-03-12         NaN     NaN         NaN          NaN    NaN  1021.048999\n"
     ]
    }
   ],
   "source": [
    "df['Forecast']=np.nan#Specify entire column is not a no. data\n",
    "last_date=df.iloc[-1].name#the last date\n",
    "last_unix=last_date.timestamp()#time at last date\n",
    "one_day=86400\n",
    "next_unix=last_unix+one_day#Next day to predict(1st one)\n",
    "\n",
    "\n",
    "for i in forecast_set:\n",
    "    next_date=datetime.datetime.fromtimestamp(next_unix)#timestamp of next day\n",
    "    next_unix+=one_day#increment to next day\n",
    "    df.loc[next_date]=[np.nan for _ in range(len(df.columns)-1)] + [i]\n",
    "    #on that date i.e. all columns-1 , sets them to NaN. Basically making the future features NaN\n",
    "    #final column is [i], which is forecast\n",
    "    #.loc refers to the index of the data frame. next_date is a date stamp i.e. it is index of dataframe\n",
    "print(df.tail())\n",
    "#Iterating through the forecast set taking each forecast and day and setting these as the values in the data frame\n",
    "#FORECAST FOR FUTURE DATES"
   ]
  },
  {
   "cell_type": "code",
   "execution_count": 10,
   "metadata": {
    "collapsed": false
   },
   "outputs": [
    {
     "data": {
      "image/png": "[encoded data removed]",
      "text/plain": [
       "<matplotlib.figure.Figure at 0x13799af3fd0>"
      ]
     },
     "metadata": {},
     "output_type": "display_data"
    }
   ],
   "source": [
    "df['Adj. Close'].plot()\n",
    "df['Forecast'].plot()\n",
    "plt.legend(loc=4)#4th location , bottom right\n",
    "plt.xlabel('Date')\n",
    "plt.ylabel('Price')\n",
    "plt.show()\n",
    "#graph of data , blue is predicted data\n",
    "#for loop used to have date on the x axis"
   ]
  },
  {
   "cell_type": "code",
   "execution_count": null,
   "metadata": {
    "collapsed": true
   },
   "outputs": [],
   "source": []
  }
 ],
 "metadata": {
  "anaconda-cloud": {},
  "kernelspec": {
   "display_name": "Python [default]",
   "language": "python",
   "name": "python3"
  },
  "language_info": {
   "codemirror_mode": {
    "name": "ipython",
    "version": 3
   },
   "file_extension": ".py",
   "mimetype": "text/x-python",
   "name": "python",
   "nbconvert_exporter": "python",
   "pygments_lexer": "ipython3",
   "version": "3.5.2"
  }
 },
 "nbformat": 4,
 "nbformat_minor": 1
}
